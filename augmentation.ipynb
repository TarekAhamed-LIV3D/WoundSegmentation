{
 "cells": [
  {
   "cell_type": "code",
   "execution_count": null,
   "id": "3aab4c3e-fc13-45aa-820b-8400ad442e41",
   "metadata": {},
   "outputs": [],
   "source": [
    "import tensorflow as tf\n",
    "\n",
    "print(\"Number Of GPUs Available: \", len(tf.config.experimental.list_physical_devices('GPU')))\n",
    "tf.test.is_built_with_cuda()\n",
    "print(tf.version.VERSION)\n",
    "import sys\n",
    "sys.version"
   ]
  },
  {
   "cell_type": "code",
   "execution_count": null,
   "id": "ad9fba48-6eaa-40b1-bb91-5ca2f9fa158d",
   "metadata": {},
   "outputs": [],
   "source": [
    "from tensorflow.python.client import device_lib\n",
    "print(device_lib.list_local_devices())\n",
    "print(tf.test.gpu_device_name())"
   ]
  },
  {
   "cell_type": "code",
   "execution_count": null,
   "id": "92a42673-4cd0-49a9-b712-a56086401324",
   "metadata": {},
   "outputs": [],
   "source": [
    "tf.keras.backend.clear_session()"
   ]
  },
  {
   "cell_type": "code",
   "execution_count": null,
   "id": "3c42ec2c-2f61-4164-8adb-f8c1ce9985b1",
   "metadata": {},
   "outputs": [],
   "source": [
    "import Augmentor\n",
    "\n",
    "p = Augmentor.Pipeline(\"C:\\\\Users\\\\tarek\\\\Downloads\\\\wound\\\\ChallengeData\\\\train\\\\images\")\n",
    "p.ground_truth(\"C:\\\\Users\\\\tarek\\\\Downloads\\\\wound\\\\ChallengeData\\\\train\\\\labels\")\n",
    "p.rotate(probability=0.7, max_left_rotation=25, max_right_rotation=25)\n",
    "p.flip_left_right(probability=0.5)\n",
    "p.zoom_random(probability=0.5, percentage_area=0.8)\n",
    "p.flip_top_bottom(probability=0.5)\n",
    "p.set_save_format(save_format='auto')\n",
    "p.sample(16860, multi_threaded=False)"
   ]
  },
  {
   "cell_type": "code",
   "execution_count": null,
   "id": "3ba02154-15f4-4308-92ec-e0a19254783f",
   "metadata": {},
   "outputs": [],
   "source": []
  }
 ],
 "metadata": {
  "kernelspec": {
   "display_name": "Python 3 (ipykernel)",
   "language": "python",
   "name": "python3"
  },
  "language_info": {
   "codemirror_mode": {
    "name": "ipython",
    "version": 3
   },
   "file_extension": ".py",
   "mimetype": "text/x-python",
   "name": "python",
   "nbconvert_exporter": "python",
   "pygments_lexer": "ipython3",
   "version": "3.9.7"
  }
 },
 "nbformat": 4,
 "nbformat_minor": 5
}
