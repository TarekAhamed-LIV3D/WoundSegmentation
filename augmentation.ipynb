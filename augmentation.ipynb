{
 "cells": [
  {
   "cell_type": "code",
   "execution_count": 7,
   "id": "3aab4c3e-fc13-45aa-820b-8400ad442e41",
   "metadata": {},
   "outputs": [
    {
     "name": "stdout",
     "output_type": "stream",
     "text": [
      "Number Of GPUs Available:  1\n",
      "2.6.0\n"
     ]
    },
    {
     "data": {
      "text/plain": [
       "'3.9.7 (default, Sep 16 2021, 16:59:28) [MSC v.1916 64 bit (AMD64)]'"
      ]
     },
     "execution_count": 7,
     "metadata": {},
     "output_type": "execute_result"
    }
   ],
   "source": [
    "import tensorflow as tf\n",
    "\n",
    "print(\"Number Of GPUs Available: \", len(tf.config.experimental.list_physical_devices('GPU')))\n",
    "tf.test.is_built_with_cuda()\n",
    "print(tf.version.VERSION)\n",
    "import sys\n",
    "sys.version"
   ]
  },
  {
   "cell_type": "code",
   "execution_count": 8,
   "id": "ad9fba48-6eaa-40b1-bb91-5ca2f9fa158d",
   "metadata": {},
   "outputs": [
    {
     "name": "stdout",
     "output_type": "stream",
     "text": [
      "[name: \"/device:CPU:0\"\n",
      "device_type: \"CPU\"\n",
      "memory_limit: 268435456\n",
      "locality {\n",
      "}\n",
      "incarnation: 6475948077712230145\n",
      ", name: \"/device:GPU:0\"\n",
      "device_type: \"GPU\"\n",
      "memory_limit: 4746391552\n",
      "locality {\n",
      "  bus_id: 1\n",
      "  links {\n",
      "  }\n",
      "}\n",
      "incarnation: 9999812257327634018\n",
      "physical_device_desc: \"device: 0, name: NVIDIA GeForce GTX 1060 6GB, pci bus id: 0000:01:00.0, compute capability: 6.1\"\n",
      "]\n",
      "/device:GPU:0\n"
     ]
    }
   ],
   "source": [
    "from tensorflow.python.client import device_lib\n",
    "print(device_lib.list_local_devices())\n",
    "print(tf.test.gpu_device_name())"
   ]
  },
  {
   "cell_type": "code",
   "execution_count": 9,
   "id": "92a42673-4cd0-49a9-b712-a56086401324",
   "metadata": {},
   "outputs": [],
   "source": [
    "tf.keras.backend.clear_session()"
   ]
  },
  {
   "cell_type": "code",
   "execution_count": 2,
   "id": "3c42ec2c-2f61-4164-8adb-f8c1ce9985b1",
   "metadata": {},
   "outputs": [
    {
     "name": "stdout",
     "output_type": "stream",
     "text": [
      "Initialised with 1010 image(s) found.\n",
      "Output directory set to C:\\Users\\tarek\\Downloads\\wound\\ChallengeData\\train\\images\\output."
     ]
    },
    {
     "name": "stderr",
     "output_type": "stream",
     "text": [
      "                                                         \r"
     ]
    },
    {
     "name": "stdout",
     "output_type": "stream",
     "text": [
      "1010 ground truth image(s) found.\n"
     ]
    },
    {
     "name": "stderr",
     "output_type": "stream",
     "text": [
      "Processing 0953.png: 100%|██████████| 15000/15000 [31:34<00:00,  7.92 Samples/s]\n"
     ]
    }
   ],
   "source": [
    "import Augmentor\n",
    "\n",
    "p = Augmentor.Pipeline(\"C:\\\\Users\\\\tarek\\\\Downloads\\\\wound\\\\ChallengeData\\\\train\\\\images\")\n",
    "p.ground_truth(\"C:\\\\Users\\\\tarek\\\\Downloads\\\\wound\\\\ChallengeData\\\\train\\\\labels\")\n",
    "p.rotate(probability=0.7, max_left_rotation=25, max_right_rotation=25)\n",
    "p.flip_left_right(probability=0.5)\n",
    "p.zoom_random(probability=0.5, percentage_area=0.8)\n",
    "p.flip_top_bottom(probability=0.5)\n",
    "p.set_save_format(save_format='auto')\n",
    "p.sample(15000, multi_threaded=False)"
   ]
  },
  {
   "cell_type": "code",
   "execution_count": null,
   "id": "3ba02154-15f4-4308-92ec-e0a19254783f",
   "metadata": {},
   "outputs": [],
   "source": []
  }
 ],
 "metadata": {
  "kernelspec": {
   "display_name": "Python 3 (ipykernel)",
   "language": "python",
   "name": "python3"
  },
  "language_info": {
   "codemirror_mode": {
    "name": "ipython",
    "version": 3
   },
   "file_extension": ".py",
   "mimetype": "text/x-python",
   "name": "python",
   "nbconvert_exporter": "python",
   "pygments_lexer": "ipython3",
   "version": "3.9.7"
  }
 },
 "nbformat": 4,
 "nbformat_minor": 5
}
